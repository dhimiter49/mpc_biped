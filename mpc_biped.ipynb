{
 "cells": [
  {
   "cell_type": "code",
   "execution_count": 2,
   "metadata": {},
   "outputs": [],
   "source": [
    "import numpy as np\n",
    "import matplotlib"
   ]
  },
  {
   "cell_type": "code",
   "execution_count": 28,
   "metadata": {},
   "outputs": [],
   "source": [
    "# Constants\n",
    "max_constraint = 0.17\n",
    "min_constraint = -max_constraint\n",
    "max_min_constraint = -0.3\n",
    "min_max_constraint = -max_min_constraint\n",
    "g = 9.81  # gravity\n",
    "h_com = 0.8  # height of CoM\n",
    "R = 1\n",
    "Q = 1e6\n",
    "dt = 5\n",
    "N = 5  # lookahead"
   ]
  },
  {
   "cell_type": "code",
   "execution_count": 29,
   "metadata": {},
   "outputs": [
    {
     "name": "stdout",
     "output_type": "stream",
     "text": [
      "[[  20.42558614    0.            0.            0.            0.        ]\n",
      " [ 145.42558614   20.42558614    0.            0.            0.        ]\n",
      " [ 395.42558614  145.42558614   20.42558614    0.            0.        ]\n",
      " [ 770.42558614  395.42558614  145.42558614   20.42558614    0.        ]\n",
      " [1270.42558614  770.42558614  395.42558614  145.42558614   20.42558614]]\n"
     ]
    }
   ],
   "source": [
    "# Matrices\n",
    "Pu = np.zeros((N,N))\n",
    "\n",
    "# First column vector\n",
    "for N_i in range(N):\n",
    "    Pu[N_i, 0] = ((1+3*N_i+3*N_i**2)*dt**3/6 - dt * h_com/g)\n",
    "\n",
    "for i in range(1,N):\n",
    "    for j in range(1,N):\n",
    "        Pu[i,j] = Pu[i-1,j-1]\n",
    "print(Pu)"
   ]
  },
  {
   "cell_type": "code",
   "execution_count": null,
   "metadata": {},
   "outputs": [],
   "source": []
  }
 ],
 "metadata": {
  "kernelspec": {
   "display_name": "Python 3",
   "language": "python",
   "name": "python3"
  },
  "language_info": {
   "codemirror_mode": {
    "name": "ipython",
    "version": 3
   },
   "file_extension": ".py",
   "mimetype": "text/x-python",
   "name": "python",
   "nbconvert_exporter": "python",
   "pygments_lexer": "ipython3",
   "version": "3.11.1"
  }
 },
 "nbformat": 4,
 "nbformat_minor": 2
}
